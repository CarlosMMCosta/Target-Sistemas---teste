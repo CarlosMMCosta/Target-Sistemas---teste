{
  "nbformat": 4,
  "nbformat_minor": 0,
  "metadata": {
    "colab": {
      "provenance": []
    },
    "kernelspec": {
      "name": "python3",
      "display_name": "Python 3"
    },
    "language_info": {
      "name": "python"
    }
  },
  "cells": [
    {
      "cell_type": "markdown",
      "source": [
        "###1) Observe o trecho de código abaixo:\n",
        "\n",
        "int INDICE = 13, SOMA = 0, K = 0;\n",
        "\n",
        "enquanto K < INDICE faça\n",
        "\n",
        "{\n",
        "\n",
        "K = K + 1;\n",
        "\n",
        "SOMA = SOMA + K;\n",
        "\n",
        "}\n",
        "\n",
        "imprimir(SOMA);\n",
        "\n",
        "\n",
        "\n",
        "Ao final do processamento, qual será o valor da variável SOMA?\n",
        "\n",
        "\\\n",
        "\\\n",
        "\\\n",
        "**Resposta**: Ao final do processamento, o valor da variável SOMA será 91."
      ],
      "metadata": {
        "id": "wftny_UYCJIV"
      }
    },
    {
      "cell_type": "markdown",
      "source": [
        "###2) Dado a sequência de Fibonacci, onde se inicia por 0 e 1 e o próximo valor sempre será a soma dos 2 valores anteriores (exemplo: 0, 1, 1, 2, 3, 5, 8, 13, 21, 34...), escreva um programa na linguagem que desejar onde, informado um número, ele calcule a sequência de Fibonacci e retorne uma mensagem avisando se o número informado pertence ou não a sequência.\n",
        "\n",
        "\n",
        "\n",
        "IMPORTANTE:\n",
        "\n",
        "Esse número pode ser informado através de qualquer entrada de sua preferência ou pode ser previamente definido no código;"
      ],
      "metadata": {
        "id": "RevC9lj5CYeS"
      }
    },
    {
      "cell_type": "code",
      "source": [
        "def confereFibonacci(num):\n",
        "  fib1 = 0\n",
        "  fib2 = 1\n",
        "\n",
        "  while(True):\n",
        "    # print(\"fib1: \" + str(fib1))\n",
        "    # print(\"fib2: \" + str(fib2))\n",
        "    if num == fib1 or num == fib2:\n",
        "      print(\"O número \" + str(num) + \" pertence à sequência de Fibonacci.\")\n",
        "      return True\n",
        "\n",
        "    if num < fib1:\n",
        "      print(\"O número \" + str(num) + \" não pertence à sequência de Fibonacci.\")\n",
        "      return False\n",
        "\n",
        "    aux = fib2\n",
        "    fib2 = fib1 + aux\n",
        "    fib1 = aux\n",
        "\n",
        "numero = int(input(\"Informe um numero: \"))\n",
        "confereFibonacci(numero)\n",
        "\n"
      ],
      "metadata": {
        "colab": {
          "base_uri": "https://localhost:8080/"
        },
        "id": "zewXS_wpCYzr",
        "outputId": "95007067-22ca-4d0f-9e2b-37d807b4c147"
      },
      "execution_count": 27,
      "outputs": [
        {
          "output_type": "stream",
          "name": "stdout",
          "text": [
            "Informe um numero: 8\n",
            "O número 8 pertence à sequência de Fibonacci.\n"
          ]
        },
        {
          "output_type": "execute_result",
          "data": {
            "text/plain": [
              "True"
            ]
          },
          "metadata": {},
          "execution_count": 27
        }
      ]
    },
    {
      "cell_type": "markdown",
      "source": [
        "###3) Descubra a lógica e complete o próximo elemento:\n",
        "\n",
        "\n",
        "\n",
        "a) 1, 3, 5, 7, ___\n",
        "\n",
        "b) 2, 4, 8, 16, 32, 64, ____\n",
        "\n",
        "c) 0, 1, 4, 9, 16, 25, 36, ____\n",
        "\n",
        "d) 4, 16, 36, 64, ____\n",
        "\n",
        "e) 1, 1, 2, 3, 5, 8, ____\n",
        "\n",
        "f) 2,10, 12, 16, 17, 18, 19, ____\n",
        "\n",
        "\\\n",
        "\\\n",
        "**Resposta**:\\\n",
        "a) 9\\\n",
        "b) 128\\\n",
        "c) 49\\\n",
        "d) 100\\\n",
        "e) 13\\\n",
        "f) 200"
      ],
      "metadata": {
        "id": "UE1SiRb5CY--"
      }
    },
    {
      "cell_type": "markdown",
      "source": [
        "###4) Você está em uma sala com três interruptores, cada um conectado a uma lâmpada em uma sala diferente. Você não pode ver as lâmpadas da sala em que está, mas pode ligar e desligar os interruptores quantas vezes quiser. Seu objetivo é descobrir qual interruptor controla qual lâmpada.\n",
        "\n",
        "Como você faria para descobrir, usando apenas duas idas até uma das salas das lâmpadas, qual interruptor controla cada lâmpada?\n",
        "\\\n",
        "\\\n",
        "**Resposta**:\\\n",
        "Eu aciono dois interruptores e espero por tempo suficiente para aque as lâmpadas fiquem quentes, depois disso eu desligo um dos interruptores e vou até uma das salas e confiro a situação da lâmpada: se estiver fria, pertence ao interruptor que não foi acionado; se estiver acesa, pertence ao interruptor que ficou ligado e caso esteja apagada, porém fria, pertence ao interruptor que foi acionado e depois desligado. Com isso terei a informação de um dos interruptores.\n",
        "Ao voltar para a sala dos interruptores, eu deixarei um dos interruptores incógnitos ligado e o outro desligado, assim, eu posso ir para uma das salas não visitadas e saberei que: se a lâmpada estiver desligada, pertence ao interruptor desligado e se a lâmpada estiver acesa, pertence ao interruptor ligado.\n"
      ],
      "metadata": {
        "id": "QXpFH91VCZT4"
      }
    },
    {
      "cell_type": "markdown",
      "source": [
        "###5) Escreva um programa que inverta os caracteres de um string.\n",
        "\n",
        "\n",
        "IMPORTANTE:\n",
        "\n",
        "a) Essa string pode ser informada através de qualquer entrada de sua preferência ou pode ser previamente definida no código;\n",
        "\n",
        "b) Evite usar funções prontas, como, por exemplo, reverse;"
      ],
      "metadata": {
        "id": "Ccmx017GCaot"
      }
    },
    {
      "cell_type": "code",
      "source": [
        "string = str(input(\"Entre com a string: \"))\n",
        "\n",
        "invertedString = \"\"\n",
        "\n",
        "for i in range(len(string), 0, -1):\n",
        "  invertedString += string[i-1]\n",
        "\n",
        "print(\"String invertida: \" + invertedString)"
      ],
      "metadata": {
        "colab": {
          "base_uri": "https://localhost:8080/"
        },
        "id": "AV1h14IwCaz7",
        "outputId": "6e3d3a12-6c6c-4b0c-b60d-0908cc2fa5a7"
      },
      "execution_count": 41,
      "outputs": [
        {
          "output_type": "stream",
          "name": "stdout",
          "text": [
            "Entre com a string: sametsiS tegraT\n",
            "String invertida: Target Sistemas\n"
          ]
        }
      ]
    }
  ]
}